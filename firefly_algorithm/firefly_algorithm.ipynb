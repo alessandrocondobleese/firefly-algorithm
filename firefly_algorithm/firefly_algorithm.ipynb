{
 "cells": [
  {
   "cell_type": "code",
   "execution_count": 14,
   "metadata": {},
   "outputs": [],
   "source": [
    "import numpy as np\n",
    "import matplotlib.pyplot as plt"
   ]
  },
  {
   "cell_type": "code",
   "execution_count": 2,
   "metadata": {},
   "outputs": [],
   "source": [
    "def objective_function(x: np.ndarray) -> float:\n",
    "    \"\"\"\n",
    "    Objective function to be minimized.\n",
    "    Example: Rastrigin function.\n",
    "    \n",
    "    Parameters:\n",
    "    x : array-like\n",
    "        Input array for the objective function.\n",
    "    \n",
    "    Returns:\n",
    "    float\n",
    "        The calculated value of the objective function.\n",
    "    \"\"\"\n",
    "    return np.sum(x**2 - 10 * np.cos(2 * np.pi * x) + 10)"
   ]
  },
  {
   "cell_type": "code",
   "execution_count": 3,
   "metadata": {},
   "outputs": [],
   "source": [
    "def initialize_fireflies(number_of_fireflies, dimension, lower_bound, upper_bound):\n",
    "    \"\"\"\n",
    "    Initialize the population of fireflies within the given bounds.\n",
    "    \n",
    "    Parameters:\n",
    "    number_of_fireflies : int\n",
    "        Number of fireflies.\n",
    "    dim : int\n",
    "        Dimension of the problem.\n",
    "    lower_bound : float\n",
    "        Lower bound of the search space.\n",
    "    upper_bound : float\n",
    "        Upper bound of the search space.\n",
    "    \n",
    "    Returns:\n",
    "    ndarray\n",
    "        Initialized population of fireflies.\n",
    "    \"\"\"\n",
    "    return lower_bound + (upper_bound - lower_bound) * np.random.rand(number_of_fireflies, dimension)"
   ]
  },
  {
   "cell_type": "code",
   "execution_count": 4,
   "metadata": {},
   "outputs": [],
   "source": [
    "def update_firefly_position(firefly_i, firefly_j, beta_o, gamma, alpha, lower_bound, upper_bound):\n",
    "    \"\"\"\n",
    "    Update the position of firefly_i based on its attraction to firefly_j.\n",
    "    \n",
    "    Parameters:\n",
    "    firefly_i : array-like\n",
    "        Position of firefly_i.\n",
    "    firefly_j : array-like\n",
    "        Position of firefly_j.\n",
    "    beta_o : float\n",
    "        Minimum value of the attractiveness.\n",
    "    gamma : float\n",
    "        Absorption coefficient.\n",
    "    alpha : float\n",
    "        Randomization parameter.\n",
    "    lower_bound : float\n",
    "        Lower bound of the search space.\n",
    "    upper_bound : float\n",
    "        Upper bound of the search space.\n",
    "    \n",
    "    Returns:\n",
    "    ndarray\n",
    "        Updated position of firefly_i.\n",
    "    \"\"\"\n",
    "    distance = np.linalg.norm(firefly_i - firefly_j)\n",
    "\n",
    "    beta = beta_o * np.exp(-gamma * distance**2)\n",
    "\n",
    "    random_factor = alpha * (np.random.rand(*firefly_i.shape) - 0.5)\n",
    "    \n",
    "    new_position = firefly_i + beta * (firefly_j - firefly_i) + random_factor\n",
    "    new_position = np.clip(new_position, lower_bound, upper_bound)\n",
    "\n",
    "    return new_position"
   ]
  },
  {
   "cell_type": "code",
   "execution_count": 10,
   "metadata": {},
   "outputs": [],
   "source": [
    "def firefly_algorithm(number_of_fireflies, dimension, lower_bound, upper_bound, maximum_iterations, beta_min=1, gamma=1, alpha=0.2):\n",
    "    \"\"\"\n",
    "    Firefly Algorithm for optimization.\n",
    "    \n",
    "    Parameters:\n",
    "    number_of_fireflies : int\n",
    "        Number of fireflies.\n",
    "    dimension : int\n",
    "        Dimension of the problem.\n",
    "    lower_bound : float\n",
    "        Lower bound of the search space.\n",
    "    upper_bound : float\n",
    "        Upper bound of the search space.\n",
    "    max_iter : int\n",
    "        Maximum number of iterations.\n",
    "    beta_min : float, optional\n",
    "        Minimum value of the attractiveness. Default is 1.\n",
    "    gamma : float, optional\n",
    "        Absorption coefficient. Default is 1.\n",
    "    alpha : float, optional\n",
    "        Randomization parameter. Default is 0.2.\n",
    "    \n",
    "    Returns:\n",
    "    tuple\n",
    "        Best solution found and its objective function value.\n",
    "    \"\"\"\n",
    "    fireflies = initialize_fireflies(number_of_fireflies, dimension, lower_bound, upper_bound)\n",
    "    fitness = np.apply_along_axis(objective_function, 1, fireflies)\n",
    "\n",
    "    best_fitness_history = [np.min(fitness)]\n",
    "    \n",
    "    for t in range(maximum_iterations):\n",
    "        for i in range(number_of_fireflies):\n",
    "            for j in range(number_of_fireflies):\n",
    "                if fitness[i] > fitness[j]:\n",
    "                    fireflies[i] = update_firefly_position(fireflies[i], fireflies[j], beta_min, gamma, alpha, lower_bound, upper_bound)\n",
    "                    fitness[i] = objective_function(fireflies[i])\n",
    "\n",
    "        best_fitness_history.append(np.min(fitness))\n",
    "    \n",
    "    best_firefly = fireflies[np.argmin(fitness)]\n",
    "    best_fitness = np.min(fitness)\n",
    "    \n",
    "    return best_firefly, best_fitness, best_fitness_history"
   ]
  },
  {
   "cell_type": "code",
   "execution_count": 33,
   "metadata": {},
   "outputs": [],
   "source": [
    "number_of_fireflies = 100\n",
    "dimension = 10\n",
    "maximum_iterations = 1000\n",
    "alpha = 0.75\n",
    "lower_bound = -5.12\n",
    "upper_bound = 5.12"
   ]
  },
  {
   "cell_type": "code",
   "execution_count": 34,
   "metadata": {},
   "outputs": [
    {
     "name": "stdout",
     "output_type": "stream",
     "text": [
      "Best solution found: [ 2.05072345 -1.01389302  1.80712537 -0.06572744  0.07555402 -0.29275036\n",
      " -0.03423284 -0.00614844  2.81193031  0.0677207 ]\n",
      "Value of the best solution: 45.47279139930767\n"
     ]
    }
   ],
   "source": [
    "best_solution, best_value, fitness_history = firefly_algorithm(number_of_fireflies, dimension, lower_bound, upper_bound, maximum_iterations, alpha=alpha)\n",
    "print(\"Best solution found:\", best_solution)\n",
    "print(\"Value of the best solution:\", best_value)"
   ]
  },
  {
   "cell_type": "code",
   "execution_count": 35,
   "metadata": {},
   "outputs": [
    {
     "data": {
      "image/png": "[encoded data removed]",
      "text/plain": [
       "<Figure size 1000x600 with 1 Axes>"
      ]
     },
     "metadata": {},
     "output_type": "display_data"
    }
   ],
   "source": [
    "plt.figure(figsize=(10, 6))\n",
    "plt.plot(fitness_history, marker='o', linestyle='-', color='b')\n",
    "plt.title(\"Convergencia\")\n",
    "plt.xlabel(\"Iteración\")\n",
    "plt.ylabel(\"Mejor valor de la función objetivoz\")\n",
    "plt.grid(True)\n",
    "plt.show()"
   ]
  }
 ],
 "metadata": {
  "kernelspec": {
   "display_name": "firefly-algorithm-e09aJjdE-py3.12",
   "language": "python",
   "name": "python3"
  },
  "language_info": {
   "codemirror_mode": {
    "name": "ipython",
    "version": 3
   },
   "file_extension": ".py",
   "mimetype": "text/x-python",
   "name": "python",
   "nbconvert_exporter": "python",
   "pygments_lexer": "ipython3",
   "version": "3.12.3"
  }
 },
 "nbformat": 4,
 "nbformat_minor": 2
}
